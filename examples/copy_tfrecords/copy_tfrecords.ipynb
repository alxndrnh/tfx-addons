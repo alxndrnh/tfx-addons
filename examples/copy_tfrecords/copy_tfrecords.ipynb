{
 "cells": [
  {
   "cell_type": "code",
   "execution_count": 1,
   "metadata": {},
   "outputs": [
    {
     "name": "stdout",
     "output_type": "stream",
     "text": [
      "Requirement already satisfied: pip in /usr/local/google/home/alexanderho/.pyenv/versions/3.8.2/envs/tfx-3.8.2/lib/python3.8/site-packages (23.0.1)\n",
      "Note: you may need to restart the kernel to use updated packages.\n"
     ]
    },
    {
     "name": "stderr",
     "output_type": "stream",
     "text": [
      "2023-03-09 16:03:01.460782: I tensorflow/core/platform/cpu_feature_guard.cc:193] This TensorFlow binary is optimized with oneAPI Deep Neural Network Library (oneDNN) to use the following CPU instructions in performance-critical operations:  AVX2 FMA\n",
      "To enable them in other operations, rebuild TensorFlow with the appropriate compiler flags.\n",
      "2023-03-09 16:03:01.638856: W tensorflow/compiler/xla/stream_executor/platform/default/dso_loader.cc:64] Could not load dynamic library 'libcudart.so.11.0'; dlerror: libcudart.so.11.0: cannot open shared object file: No such file or directory\n",
      "2023-03-09 16:03:01.638890: I tensorflow/compiler/xla/stream_executor/cuda/cudart_stub.cc:29] Ignore above cudart dlerror if you do not have a GPU set up on your machine.\n",
      "2023-03-09 16:03:02.948797: W tensorflow/compiler/xla/stream_executor/platform/default/dso_loader.cc:64] Could not load dynamic library 'libnvinfer.so.7'; dlerror: libnvinfer.so.7: cannot open shared object file: No such file or directory\n",
      "2023-03-09 16:03:02.948949: W tensorflow/compiler/xla/stream_executor/platform/default/dso_loader.cc:64] Could not load dynamic library 'libnvinfer_plugin.so.7'; dlerror: libnvinfer_plugin.so.7: cannot open shared object file: No such file or directory\n",
      "2023-03-09 16:03:02.948963: W tensorflow/compiler/tf2tensorrt/utils/py_utils.cc:38] TF-TRT Warning: Cannot dlopen some TensorRT libraries. If you would like to use Nvidia GPU with TensorRT, please make sure the missing libraries mentioned above are installed properly.\n"
     ]
    },
    {
     "name": "stdout",
     "output_type": "stream",
     "text": [
      "2.11.0\n",
      "1.12.0\n"
     ]
    }
   ],
   "source": [
    "#Check Python Version\n",
    "import shutil\n",
    "import sys\n",
    "sys.version\n",
    "\n",
    "\n",
    "#Upgrade pip\n",
    "%pip install --upgrade pip\n",
    "\n",
    "\n",
    "#Check TF & TFX Versioning\n",
    "import tensorflow as tf\n",
    "print(tf.__version__)\n",
    "from tfx import v1 as tfx\n",
    "print(tfx.__version__)\n",
    "\n",
    "\n",
    "#Setup Variables as examplegen_playground\n",
    "import os\n",
    "\n",
    "# Pipeline name\n",
    "PIPELINE_NAME = \"copy_tfrecords\"\n",
    "\n",
    "# Output directory to store artifacts generated from the pipeline.\n",
    "PIPELINE_ROOT = './artifacts'\n",
    "# Path to a SQLite DB file to use as an MLMD storage.\n",
    "METADATA_PATH = os.path.join('metadata', PIPELINE_NAME, 'metadata.db')\n",
    "# Output directory where created models from the pipeline will be exported.\n",
    "SERVING_MODEL_DIR = os.path.join('serving_model', PIPELINE_NAME)\n",
    "\n",
    "# Folder path to data\n",
    "DATA_ROOT = './data/'\n",
    "\n",
    "# Folder path to tfrecords\n",
    "TFRECORDS_TRAIN_DATA_PATH = '../../../../Documents/tfrecord1_split_train/data_tfrecord-00000-of-00001.gz'\n",
    "TFRECORDS_EVAL_DATA_PATH = '../../../../Documents/tfrecord2_split_eval/data_tfrecord-00000-of-00001.gz'\n",
    "\n",
    "from absl import logging\n",
    "logging.set_verbosity(logging.INFO)  # Set default logging level."
   ]
  },
  {
   "cell_type": "code",
   "execution_count": 4,
   "metadata": {},
   "outputs": [],
   "source": [
    "import json\n",
    "import tempfile\n",
    "from typing import Any, Dict, List\n",
    "\n",
    "from tfx.orchestration.experimental.interactive.interactive_context import InteractiveContext\n",
    "\n",
    "from tfx.v1.types.standard_artifacts import Examples\n",
    "from typing import Any, Dict, List, Optional, Type, Union\n",
    "\n",
    "from hello import component\n",
    "\n",
    "from tfx.dsl.io import fileio\n",
    "\n",
    "def _create_pipeline(pipeline_name: str, pipeline_root: str, data_root: str,\n",
    "                     metadata_path: str) -> tfx.dsl.Pipeline:\n",
    "  # User input dictionary with split-names and their resepctive uri to tfrecords\n",
    "  tfrecords_dict={\n",
    "    \"train\":TFRECORDS_TRAIN_DATA_PATH,\n",
    "    \"eval\":TFRECORDS_EVAL_DATA_PATH\n",
    "  }\n",
    "  split_names=''\n",
    "  counter=1\n",
    "\n",
    "  cwd = os.getcwd()\n",
    "  temp_dir = tempfile.TemporaryDirectory(dir = cwd)\n",
    "\n",
    "  print(temp_dir.name)\n",
    "\n",
    "#   fileio.copy(TFRECORDS_TRAIN_DATA_PATH, temp_dir, )\n",
    "\n",
    "\n",
    "\n",
    "\n",
    "  # Destination directory for source\n",
    "  destination_examples_artifact_uri = temp_dir.name\n",
    "  print(destination_examples_artifact_uri)\n",
    "\n",
    "\n",
    "  # Create a folder in destination_examples_artifact_uri for every key name\n",
    "  for key in tfrecords_dict:\n",
    "        split_name_temp = \"Split-\"+key\n",
    "        path = os.path.join(destination_examples_artifact_uri, split_name_temp)\n",
    "        if not os.path.exists(path):\n",
    "            os.mkdir(path)\n",
    "            print(path)\n",
    "        shutil.copy(tfrecords_dict[key], path)\n",
    "        print(path)\n",
    "\n",
    "\n",
    "  # Create split_names string\n",
    "  for key in tfrecords_dict:\n",
    "      if(counter==1):\n",
    "          split_names+='[\"'+key+'\",\"'\n",
    "          counter=counter+1\n",
    "      elif(counter==2):\n",
    "          split_names+=key+'\"]'\n",
    "      else:\n",
    "          split_names+=key+','\n",
    "          counter=counter+1\n",
    "\n",
    "  print(split_names)\n",
    "\n",
    "  # CopyExampleGen execution process to replace Importer Node functionality\n",
    "  examples_importer = tfx.dsl.Importer(\n",
    "        source_uri=destination_examples_artifact_uri,\n",
    "        artifact_type=tfx.types.standard_artifacts.Examples,\n",
    "        # properties={\"split_names\": '[\"train\",\"eval\"]'}\n",
    "        properties={\"split_names\": split_names}\n",
    "        ).with_id('examples_importer')\n",
    "\n",
    "\n",
    "  hello_component = component.HelloComponent(\n",
    "      input_data=examples_importer.outputs['result'],\n",
    "      tfrecords_dict=tfrecords_dict\n",
    "    #   input_data=tfrecords_dict\n",
    "  )\n",
    "\n",
    "  # Test downstream component\n",
    "  statistics_gen = tfx.components.StatisticsGen(\n",
    "     examples=hello_component.outputs['output_data'])\n",
    "\n",
    "  # Following three components will be included in the pipeline.\n",
    "  components = [\n",
    "      # example_gen,\n",
    "      examples_importer,\n",
    "      hello_component,\n",
    "      statistics_gen\n",
    "  ]\n",
    "\n",
    "  return tfx.dsl.Pipeline(\n",
    "      pipeline_name=pipeline_name,\n",
    "      pipeline_root=pipeline_root,\n",
    "      metadata_connection_config=tfx.orchestration.metadata\n",
    "      .sqlite_metadata_connection_config(metadata_path),\n",
    "      components=components)"
   ]
  },
  {
   "cell_type": "code",
   "execution_count": 5,
   "metadata": {},
   "outputs": [
    {
     "name": "stdout",
     "output_type": "stream",
     "text": [
      "/usr/local/google/home/alexanderho/Repos/tfx-addons/examples/copy_tfrecords/tmppe14e7pn\n",
      "<TemporaryDirectory '/usr/local/google/home/alexanderho/Repos/tfx-addons/examples/copy_tfrecords/tmppe14e7pn'>\n"
     ]
    },
    {
     "ename": "FileNotFoundError",
     "evalue": "[Errno 2] No such file or directory: \"<TemporaryDirectory '/usr/local/google/home/alexanderho/Repos/tfx-addons/examples/copy_tfrecords/tmppe14e7pn'>/Split-train\"",
     "output_type": "error",
     "traceback": [
      "\u001b[0;31m---------------------------------------------------------------------------\u001b[0m",
      "\u001b[0;31mFileNotFoundError\u001b[0m                         Traceback (most recent call last)",
      "\u001b[0;32m/tmp/ipykernel_1678790/3420384479.py\u001b[0m in \u001b[0;36m<cell line: 1>\u001b[0;34m()\u001b[0m\n\u001b[1;32m      1\u001b[0m tfx.orchestration.LocalDagRunner().run(\n\u001b[0;32m----> 2\u001b[0;31m   _create_pipeline(\n\u001b[0m\u001b[1;32m      3\u001b[0m       \u001b[0mpipeline_name\u001b[0m\u001b[0;34m=\u001b[0m\u001b[0mPIPELINE_NAME\u001b[0m\u001b[0;34m,\u001b[0m\u001b[0;34m\u001b[0m\u001b[0;34m\u001b[0m\u001b[0m\n\u001b[1;32m      4\u001b[0m       \u001b[0mpipeline_root\u001b[0m\u001b[0;34m=\u001b[0m\u001b[0mPIPELINE_ROOT\u001b[0m\u001b[0;34m,\u001b[0m\u001b[0;34m\u001b[0m\u001b[0;34m\u001b[0m\u001b[0m\n\u001b[1;32m      5\u001b[0m       \u001b[0mdata_root\u001b[0m\u001b[0;34m=\u001b[0m\u001b[0mDATA_ROOT\u001b[0m\u001b[0;34m,\u001b[0m\u001b[0;34m\u001b[0m\u001b[0;34m\u001b[0m\u001b[0m\n",
      "\u001b[0;32m/tmp/ipykernel_1678790/2011275607.py\u001b[0m in \u001b[0;36m_create_pipeline\u001b[0;34m(pipeline_name, pipeline_root, data_root, metadata_path)\u001b[0m\n\u001b[1;32m     42\u001b[0m         \u001b[0mpath\u001b[0m \u001b[0;34m=\u001b[0m \u001b[0mos\u001b[0m\u001b[0;34m.\u001b[0m\u001b[0mpath\u001b[0m\u001b[0;34m.\u001b[0m\u001b[0mjoin\u001b[0m\u001b[0;34m(\u001b[0m\u001b[0mdestination_examples_artifact_uri\u001b[0m\u001b[0;34m,\u001b[0m \u001b[0msplit_name_temp\u001b[0m\u001b[0;34m)\u001b[0m\u001b[0;34m\u001b[0m\u001b[0;34m\u001b[0m\u001b[0m\n\u001b[1;32m     43\u001b[0m         \u001b[0;32mif\u001b[0m \u001b[0;32mnot\u001b[0m \u001b[0mos\u001b[0m\u001b[0;34m.\u001b[0m\u001b[0mpath\u001b[0m\u001b[0;34m.\u001b[0m\u001b[0mexists\u001b[0m\u001b[0;34m(\u001b[0m\u001b[0mpath\u001b[0m\u001b[0;34m)\u001b[0m\u001b[0;34m:\u001b[0m\u001b[0;34m\u001b[0m\u001b[0;34m\u001b[0m\u001b[0m\n\u001b[0;32m---> 44\u001b[0;31m             \u001b[0mos\u001b[0m\u001b[0;34m.\u001b[0m\u001b[0mmkdir\u001b[0m\u001b[0;34m(\u001b[0m\u001b[0mpath\u001b[0m\u001b[0;34m)\u001b[0m\u001b[0;34m\u001b[0m\u001b[0;34m\u001b[0m\u001b[0m\n\u001b[0m\u001b[1;32m     45\u001b[0m             \u001b[0mprint\u001b[0m\u001b[0;34m(\u001b[0m\u001b[0mpath\u001b[0m\u001b[0;34m)\u001b[0m\u001b[0;34m\u001b[0m\u001b[0;34m\u001b[0m\u001b[0m\n\u001b[1;32m     46\u001b[0m         \u001b[0mshutil\u001b[0m\u001b[0;34m.\u001b[0m\u001b[0mcopy\u001b[0m\u001b[0;34m(\u001b[0m\u001b[0mtfrecords_dict\u001b[0m\u001b[0;34m[\u001b[0m\u001b[0mkey\u001b[0m\u001b[0;34m]\u001b[0m\u001b[0;34m,\u001b[0m \u001b[0mpath\u001b[0m\u001b[0;34m)\u001b[0m\u001b[0;34m\u001b[0m\u001b[0;34m\u001b[0m\u001b[0m\n",
      "\u001b[0;31mFileNotFoundError\u001b[0m: [Errno 2] No such file or directory: \"<TemporaryDirectory '/usr/local/google/home/alexanderho/Repos/tfx-addons/examples/copy_tfrecords/tmppe14e7pn'>/Split-train\""
     ]
    }
   ],
   "source": [
    "tfx.orchestration.LocalDagRunner().run(\n",
    "  _create_pipeline(\n",
    "      pipeline_name=PIPELINE_NAME,\n",
    "      pipeline_root=PIPELINE_ROOT,\n",
    "      data_root=DATA_ROOT,\n",
    "      metadata_path=METADATA_PATH)\n",
    "  )"
   ]
  },
  {
   "cell_type": "code",
   "execution_count": null,
   "metadata": {},
   "outputs": [],
   "source": [
    "import re\n",
    "'./examples/'\n",
    "dict_output = {\n",
    "\t\"name\": \"TypeError\",\n",
    "\t\"message\": \"descriptor 'items' of 'dict' object needs an argument\",\n",
    "\t\"stack\": \"\\u001b[0;31m---------------------------------------------------------------------------\\u001b[0m\\n\\u001b[0;31mTypeError\\u001b[0m                                 Traceback (most recent call last)\\n\\u001b[0;32m/tmp/ipykernel_1454176/3420384479.py\\u001b[0m in \\u001b[0;36m<cell line: 1>\\u001b[0;34m()\\u001b[0m\\n\\u001b[0;32m----> 1\\u001b[0;31m tfx.orchestration.LocalDagRunner().run(\\n\\u001b[0m\\u001b[1;32m      2\\u001b[0m   _create_pipeline(\\n\\u001b[1;32m      3\\u001b[0m       \\u001b[0mpipeline_name\\u001b[0m\\u001b[0;34m=\\u001b[0m\\u001b[0mPIPELINE_NAME\\u001b[0m\\u001b[0;34m,\\u001b[0m\\u001b[0;34m\\u001b[0m\\u001b[0;34m\\u001b[0m\\u001b[0m\\n\\u001b[1;32m      4\\u001b[0m       \\u001b[0mpipeline_root\\u001b[0m\\u001b[0;34m=\\u001b[0m\\u001b[0mPIPELINE_ROOT\\u001b[0m\\u001b[0;34m,\\u001b[0m\\u001b[0;34m\\u001b[0m\\u001b[0;34m\\u001b[0m\\u001b[0m\\n\\u001b[1;32m      5\\u001b[0m       \\u001b[0mdata_root\\u001b[0m\\u001b[0;34m=\\u001b[0m\\u001b[0mDATA_ROOT\\u001b[0m\\u001b[0;34m,\\u001b[0m\\u001b[0;34m\\u001b[0m\\u001b[0;34m\\u001b[0m\\u001b[0m\\n\\n\\u001b[0;32m~/.pyenv/versions/3.8.2/envs/tfx-3.8.2/lib/python3.8/site-packages/tfx/orchestration/portable/tfx_runner.py\\u001b[0m in \\u001b[0;36mrun\\u001b[0;34m(self, pipeline, run_options, **kwargs)\\u001b[0m\\n\\u001b[1;32m    122\\u001b[0m     \\u001b[0;32melse\\u001b[0m\\u001b[0;34m:\\u001b[0m\\u001b[0;34m\\u001b[0m\\u001b[0;34m\\u001b[0m\\u001b[0m\\n\\u001b[1;32m    123\\u001b[0m       \\u001b[0mrun_options_pb\\u001b[0m \\u001b[0;34m=\\u001b[0m \\u001b[0;32mNone\\u001b[0m\\u001b[0;34m\\u001b[0m\\u001b[0;34m\\u001b[0m\\u001b[0m\\n\\u001b[0;32m--> 124\\u001b[0;31m     \\u001b[0;32mreturn\\u001b[0m \\u001b[0mself\\u001b[0m\\u001b[0;34m.\\u001b[0m\\u001b[0mrun_with_ir\\u001b[0m\\u001b[0;34m(\\u001b[0m\\u001b[0mpipeline_pb\\u001b[0m\\u001b[0;34m,\\u001b[0m \\u001b[0mrun_options\\u001b[0m\\u001b[0;34m=\\u001b[0m\\u001b[0mrun_options_pb\\u001b[0m\\u001b[0;34m,\\u001b[0m \\u001b[0;34m**\\u001b[0m\\u001b[0mkwargs\\u001b[0m\\u001b[0;34m)\\u001b[0m\\u001b[0;34m\\u001b[0m\\u001b[0;34m\\u001b[0m\\u001b[0m\\n\\u001b[0m\\n\\u001b[0;32m~/.pyenv/versions/3.8.2/envs/tfx-3.8.2/lib/python3.8/site-packages/tfx/orchestration/local/local_dag_runner.py\\u001b[0m in \\u001b[0;36mrun_with_ir\\u001b[0;34m(self, pipeline, run_options)\\u001b[0m\\n\\u001b[1;32m    107\\u001b[0m           \\u001b[0;32mwith\\u001b[0m \\u001b[0mmetadata\\u001b[0m\\u001b[0;34m.\\u001b[0m\\u001b[0mMetadata\\u001b[0m\\u001b[0;34m(\\u001b[0m\\u001b[0mconnection_config\\u001b[0m\\u001b[0;34m)\\u001b[0m \\u001b[0;32mas\\u001b[0m \\u001b[0mmlmd_handle\\u001b[0m\\u001b[0;34m:\\u001b[0m\\u001b[0;34m\\u001b[0m\\u001b[0;34m\\u001b[0m\\u001b[0m\\n\\u001b[1;32m    108\\u001b[0m             \\u001b[0mpartial_run_utils\\u001b[0m\\u001b[0;34m.\\u001b[0m\\u001b[0msnapshot\\u001b[0m\\u001b[0;34m(\\u001b[0m\\u001b[0mmlmd_handle\\u001b[0m\\u001b[0;34m,\\u001b[0m \\u001b[0mpipeline\\u001b[0m\\u001b[0;34m)\\u001b[0m\\u001b[0;34m\\u001b[0m\\u001b[0;34m\\u001b[0m\\u001b[0m\\n\\u001b[0;32m--> 109\\u001b[0;31m         \\u001b[0mcomponent_launcher\\u001b[0m\\u001b[0;34m.\\u001b[0m\\u001b[0mlaunch\\u001b[0m\\u001b[0;34m(\\u001b[0m\\u001b[0;34m)\\u001b[0m\\u001b[0;34m\\u001b[0m\\u001b[0;34m\\u001b[0m\\u001b[0m\\n\\u001b[0m\\u001b[1;32m    110\\u001b[0m         \\u001b[0mlogging\\u001b[0m\\u001b[0;34m.\\u001b[0m\\u001b[0minfo\\u001b[0m\\u001b[0;34m(\\u001b[0m\\u001b[0;34m'Component %s is finished.'\\u001b[0m\\u001b[0;34m,\\u001b[0m \\u001b[0mnode_id\\u001b[0m\\u001b[0;34m)\\u001b[0m\\u001b[0;34m\\u001b[0m\\u001b[0;34m\\u001b[0m\\u001b[0m\\n\\n\\u001b[0;32m~/.pyenv/versions/3.8.2/envs/tfx-3.8.2/lib/python3.8/site-packages/tfx/orchestration/portable/launcher.py\\u001b[0m in \\u001b[0;36mlaunch\\u001b[0;34m(self)\\u001b[0m\\n\\u001b[1;32m    571\\u001b[0m               executor_watcher.address)\\n\\u001b[1;32m    572\\u001b[0m           \\u001b[0mexecutor_watcher\\u001b[0m\\u001b[0;34m.\\u001b[0m\\u001b[0mstart\\u001b[0m\\u001b[0;34m(\\u001b[0m\\u001b[0;34m)\\u001b[0m\\u001b[0;34m\\u001b[0m\\u001b[0;34m\\u001b[0m\\u001b[0m\\n\\u001b[0;32m--> 573\\u001b[0;31m         \\u001b[0mexecutor_output\\u001b[0m \\u001b[0;34m=\\u001b[0m \\u001b[0mself\\u001b[0m\\u001b[0;34m.\\u001b[0m\\u001b[0m_run_executor\\u001b[0m\\u001b[0;34m(\\u001b[0m\\u001b[0mexecution_info\\u001b[0m\\u001b[0;34m)\\u001b[0m\\u001b[0;34m\\u001b[0m\\u001b[0;34m\\u001b[0m\\u001b[0m\\n\\u001b[0m\\u001b[1;32m    574\\u001b[0m       \\u001b[0;32mexcept\\u001b[0m \\u001b[0mException\\u001b[0m \\u001b[0;32mas\\u001b[0m \\u001b[0me\\u001b[0m\\u001b[0;34m:\\u001b[0m  \\u001b[0;31m# pylint: disable=broad-except\\u001b[0m\\u001b[0;34m\\u001b[0m\\u001b[0;34m\\u001b[0m\\u001b[0m\\n\\u001b[1;32m    575\\u001b[0m         execution_output = (\\n\\n\\u001b[0;32m~/.pyenv/versions/3.8.2/envs/tfx-3.8.2/lib/python3.8/site-packages/tfx/orchestration/portable/launcher.py\\u001b[0m in \\u001b[0;36m_run_executor\\u001b[0;34m(self, execution_info)\\u001b[0m\\n\\u001b[1;32m    446\\u001b[0m     \\u001b[0moutputs_utils\\u001b[0m\\u001b[0;34m.\\u001b[0m\\u001b[0mmake_output_dirs\\u001b[0m\\u001b[0;34m(\\u001b[0m\\u001b[0mexecution_info\\u001b[0m\\u001b[0;34m.\\u001b[0m\\u001b[0moutput_dict\\u001b[0m\\u001b[0;34m)\\u001b[0m\\u001b[0;34m\\u001b[0m\\u001b[0;34m\\u001b[0m\\u001b[0m\\n\\u001b[1;32m    447\\u001b[0m     \\u001b[0;32mtry\\u001b[0m\\u001b[0;34m:\\u001b[0m\\u001b[0;34m\\u001b[0m\\u001b[0;34m\\u001b[0m\\u001b[0m\\n\\u001b[0;32m--> 448\\u001b[0;31m       \\u001b[0mexecutor_output\\u001b[0m \\u001b[0;34m=\\u001b[0m \\u001b[0mself\\u001b[0m\\u001b[0;34m.\\u001b[0m\\u001b[0m_executor_operator\\u001b[0m\\u001b[0;34m.\\u001b[0m\\u001b[0mrun_executor\\u001b[0m\\u001b[0;34m(\\u001b[0m\\u001b[0mexecution_info\\u001b[0m\\u001b[0;34m)\\u001b[0m\\u001b[0;34m\\u001b[0m\\u001b[0;34m\\u001b[0m\\u001b[0m\\n\\u001b[0m\\u001b[1;32m    449\\u001b[0m       \\u001b[0mcode\\u001b[0m \\u001b[0;34m=\\u001b[0m \\u001b[0mexecutor_output\\u001b[0m\\u001b[0;34m.\\u001b[0m\\u001b[0mexecution_result\\u001b[0m\\u001b[0;34m.\\u001b[0m\\u001b[0mcode\\u001b[0m\\u001b[0;34m\\u001b[0m\\u001b[0;34m\\u001b[0m\\u001b[0m\\n\\u001b[1;32m    450\\u001b[0m       \\u001b[0;32mif\\u001b[0m \\u001b[0mcode\\u001b[0m \\u001b[0;34m!=\\u001b[0m \\u001b[0;36m0\\u001b[0m\\u001b[0;34m:\\u001b[0m\\u001b[0;34m\\u001b[0m\\u001b[0;34m\\u001b[0m\\u001b[0m\\n\\n\\u001b[0;32m~/.pyenv/versions/3.8.2/envs/tfx-3.8.2/lib/python3.8/site-packages/tfx/orchestration/portable/python_executor_operator.py\\u001b[0m in \\u001b[0;36mrun_executor\\u001b[0;34m(self, execution_info)\\u001b[0m\\n\\u001b[1;32m    133\\u001b[0m         pipeline_run_id=execution_info.pipeline_run_id)\\n\\u001b[1;32m    134\\u001b[0m     \\u001b[0mexecutor\\u001b[0m \\u001b[0;34m=\\u001b[0m \\u001b[0mself\\u001b[0m\\u001b[0;34m.\\u001b[0m\\u001b[0m_executor_cls\\u001b[0m\\u001b[0;34m(\\u001b[0m\\u001b[0mcontext\\u001b[0m\\u001b[0;34m=\\u001b[0m\\u001b[0mcontext\\u001b[0m\\u001b[0;34m)\\u001b[0m\\u001b[0;34m\\u001b[0m\\u001b[0;34m\\u001b[0m\\u001b[0m\\n\\u001b[0;32m--> 135\\u001b[0;31m     \\u001b[0;32mreturn\\u001b[0m \\u001b[0mrun_with_executor\\u001b[0m\\u001b[0;34m(\\u001b[0m\\u001b[0mexecution_info\\u001b[0m\\u001b[0;34m,\\u001b[0m \\u001b[0mexecutor\\u001b[0m\\u001b[0;34m)\\u001b[0m\\u001b[0;34m\\u001b[0m\\u001b[0;34m\\u001b[0m\\u001b[0m\\n\\u001b[0m\\n\\u001b[0;32m~/.pyenv/versions/3.8.2/envs/tfx-3.8.2/lib/python3.8/site-packages/tfx/orchestration/portable/python_executor_operator.py\\u001b[0m in \\u001b[0;36mrun_with_executor\\u001b[0;34m(execution_info, executor)\\u001b[0m\\n\\u001b[1;32m     56\\u001b[0m \\u001b[0;34m\\u001b[0m\\u001b[0m\\n\\u001b[1;32m     57\\u001b[0m   \\u001b[0moutput_dict\\u001b[0m \\u001b[0;34m=\\u001b[0m \\u001b[0mcopy\\u001b[0m\\u001b[0;34m.\\u001b[0m\\u001b[0mdeepcopy\\u001b[0m\\u001b[0;34m(\\u001b[0m\\u001b[0mexecution_info\\u001b[0m\\u001b[0;34m.\\u001b[0m\\u001b[0moutput_dict\\u001b[0m\\u001b[0;34m)\\u001b[0m\\u001b[0;34m\\u001b[0m\\u001b[0;34m\\u001b[0m\\u001b[0m\\n\\u001b[0;32m---> 58\\u001b[0;31m   result = executor.Do(execution_info.input_dict, output_dict,\\n\\u001b[0m\\u001b[1;32m     59\\u001b[0m                        execution_info.exec_properties)\\n\\u001b[1;32m     60\\u001b[0m   \\u001b[0;32mif\\u001b[0m \\u001b[0;32mnot\\u001b[0m \\u001b[0mresult\\u001b[0m\\u001b[0;34m:\\u001b[0m\\u001b[0;34m\\u001b[0m\\u001b[0;34m\\u001b[0m\\u001b[0m\\n\\n\\u001b[0;32m~/Repos/tfx-addons/examples/copy_tfrecords/hello/executor.py\\u001b[0m in \\u001b[0;36mDo\\u001b[0;34m(self, input_dict, output_dict, exec_properties)\\u001b[0m\\n\\u001b[1;32m     65\\u001b[0m \\u001b[0;34m\\u001b[0m\\u001b[0m\\n\\u001b[1;32m     66\\u001b[0m     \\u001b[0;32mif\\u001b[0m \\u001b[0mproperties\\u001b[0m \\u001b[0;32mis\\u001b[0m \\u001b[0;32mnot\\u001b[0m \\u001b[0;32mNone\\u001b[0m\\u001b[0;34m:\\u001b[0m\\u001b[0;34m\\u001b[0m\\u001b[0;34m\\u001b[0m\\u001b[0m\\n\\u001b[0;32m---> 67\\u001b[0;31m       \\u001b[0;32mfor\\u001b[0m \\u001b[0mkey\\u001b[0m\\u001b[0;34m,\\u001b[0m \\u001b[0mvalue\\u001b[0m \\u001b[0;32min\\u001b[0m \\u001b[0mproperties\\u001b[0m\\u001b[0;34m.\\u001b[0m\\u001b[0mitems\\u001b[0m\\u001b[0;34m(\\u001b[0m\\u001b[0;34m)\\u001b[0m\\u001b[0;34m:\\u001b[0m\\u001b[0;34m\\u001b[0m\\u001b[0;34m\\u001b[0m\\u001b[0m\\n\\u001b[0m\\u001b[1;32m     68\\u001b[0m         \\u001b[0msetattr\\u001b[0m\\u001b[0;34m(\\u001b[0m\\u001b[0martifact\\u001b[0m\\u001b[0;34m,\\u001b[0m \\u001b[0mkey\\u001b[0m\\u001b[0;34m,\\u001b[0m \\u001b[0mvalue\\u001b[0m\\u001b[0;34m)\\u001b[0m\\u001b[0;34m\\u001b[0m\\u001b[0;34m\\u001b[0m\\u001b[0m\\n\\u001b[1;32m     69\\u001b[0m     \\u001b[0;32mif\\u001b[0m \\u001b[0mcustom_properties\\u001b[0m \\u001b[0;32mis\\u001b[0m \\u001b[0;32mnot\\u001b[0m \\u001b[0;32mNone\\u001b[0m\\u001b[0;34m:\\u001b[0m\\u001b[0;34m\\u001b[0m\\u001b[0;34m\\u001b[0m\\u001b[0m\\n\\n\\u001b[0;31mTypeError\\u001b[0m: descriptor 'items' of 'dict' object needs an argument\"\n",
    "}\n",
    "ansi_escape = re.compile(r'\\x1B(?:[@-Z\\\\-_]|\\[[0-?]*[ -/]*[@-~])')\n",
    "result = ansi_escape.sub('', dict_output[\"stack\"])\n",
    "\n",
    "print(result)"
   ]
  }
 ],
 "metadata": {
  "kernelspec": {
   "display_name": "tfx-3.8.2",
   "language": "python",
   "name": "python3"
  },
  "language_info": {
   "codemirror_mode": {
    "name": "ipython",
    "version": 3
   },
   "file_extension": ".py",
   "mimetype": "text/x-python",
   "name": "python",
   "nbconvert_exporter": "python",
   "pygments_lexer": "ipython3",
   "version": "3.8.2"
  },
  "orig_nbformat": 4,
  "vscode": {
   "interpreter": {
    "hash": "a21382bcf4cd2ec5bec501ec961be81f5e055eb8968eab00b0db6b308c7e2937"
   }
  }
 },
 "nbformat": 4,
 "nbformat_minor": 2
}
