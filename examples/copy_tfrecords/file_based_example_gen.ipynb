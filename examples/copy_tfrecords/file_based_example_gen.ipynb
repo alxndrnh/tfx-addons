{
 "cells": [
  {
   "cell_type": "code",
   "execution_count": 1,
   "metadata": {},
   "outputs": [
    {
     "data": {
      "text/plain": [
       "'3.8.2 (default, Jan 31 2023, 18:34:03) \\n[GCC 12.2.0]'"
      ]
     },
     "execution_count": 1,
     "metadata": {},
     "output_type": "execute_result"
    }
   ],
   "source": [
    "#Check Python Version\n",
    "import shutil\n",
    "import sys\n",
    "sys.version"
   ]
  },
  {
   "cell_type": "code",
   "execution_count": 2,
   "metadata": {},
   "outputs": [
    {
     "name": "stdout",
     "output_type": "stream",
     "text": [
      "Requirement already satisfied: pip in /usr/local/google/home/alexanderho/.pyenv/versions/3.8.2/envs/tfx-3.8.2/lib/python3.8/site-packages (23.0.1)\n",
      "Note: you may need to restart the kernel to use updated packages.\n"
     ]
    }
   ],
   "source": [
    "#Upgrade pip\n",
    "%pip install --upgrade pip"
   ]
  },
  {
   "cell_type": "code",
   "execution_count": 3,
   "metadata": {},
   "outputs": [
    {
     "name": "stdout",
     "output_type": "stream",
     "text": [
      "Requirement already satisfied: tensorflow-datasets in /usr/local/google/home/alexanderho/.pyenv/versions/3.8.2/envs/tfx-3.8.2/lib/python3.8/site-packages (4.8.2)\n",
      "Requirement already satisfied: promise in /usr/local/google/home/alexanderho/.pyenv/versions/3.8.2/envs/tfx-3.8.2/lib/python3.8/site-packages (from tensorflow-datasets) (2.3)\n",
      "Requirement already satisfied: etils[enp,epath]>=0.9.0 in /usr/local/google/home/alexanderho/.pyenv/versions/3.8.2/envs/tfx-3.8.2/lib/python3.8/site-packages (from tensorflow-datasets) (1.0.0)\n",
      "Requirement already satisfied: dill in /usr/local/google/home/alexanderho/.pyenv/versions/3.8.2/envs/tfx-3.8.2/lib/python3.8/site-packages (from tensorflow-datasets) (0.3.1.1)\n",
      "Requirement already satisfied: absl-py in /usr/local/google/home/alexanderho/.pyenv/versions/3.8.2/envs/tfx-3.8.2/lib/python3.8/site-packages (from tensorflow-datasets) (1.4.0)\n",
      "Requirement already satisfied: termcolor in /usr/local/google/home/alexanderho/.pyenv/versions/3.8.2/envs/tfx-3.8.2/lib/python3.8/site-packages (from tensorflow-datasets) (2.2.0)\n",
      "Requirement already satisfied: importlib-resources in /usr/local/google/home/alexanderho/.pyenv/versions/3.8.2/envs/tfx-3.8.2/lib/python3.8/site-packages (from tensorflow-datasets) (5.10.2)\n",
      "Requirement already satisfied: dm-tree in /usr/local/google/home/alexanderho/.pyenv/versions/3.8.2/envs/tfx-3.8.2/lib/python3.8/site-packages (from tensorflow-datasets) (0.1.8)\n",
      "Requirement already satisfied: protobuf>=3.12.2 in /usr/local/google/home/alexanderho/.pyenv/versions/3.8.2/envs/tfx-3.8.2/lib/python3.8/site-packages (from tensorflow-datasets) (3.19.6)\n",
      "Requirement already satisfied: psutil in /usr/local/google/home/alexanderho/.pyenv/versions/3.8.2/envs/tfx-3.8.2/lib/python3.8/site-packages (from tensorflow-datasets) (5.9.4)\n",
      "Requirement already satisfied: tqdm in /usr/local/google/home/alexanderho/.pyenv/versions/3.8.2/envs/tfx-3.8.2/lib/python3.8/site-packages (from tensorflow-datasets) (4.64.1)\n",
      "Requirement already satisfied: requests>=2.19.0 in /usr/local/google/home/alexanderho/.pyenv/versions/3.8.2/envs/tfx-3.8.2/lib/python3.8/site-packages (from tensorflow-datasets) (2.28.2)\n",
      "Requirement already satisfied: numpy in /usr/local/google/home/alexanderho/.pyenv/versions/3.8.2/envs/tfx-3.8.2/lib/python3.8/site-packages (from tensorflow-datasets) (1.22.4)\n",
      "Requirement already satisfied: toml in /usr/local/google/home/alexanderho/.pyenv/versions/3.8.2/envs/tfx-3.8.2/lib/python3.8/site-packages (from tensorflow-datasets) (0.10.2)\n",
      "Requirement already satisfied: click in /usr/local/google/home/alexanderho/.pyenv/versions/3.8.2/envs/tfx-3.8.2/lib/python3.8/site-packages (from tensorflow-datasets) (7.1.2)\n",
      "Requirement already satisfied: tensorflow-metadata in /usr/local/google/home/alexanderho/.pyenv/versions/3.8.2/envs/tfx-3.8.2/lib/python3.8/site-packages (from tensorflow-datasets) (1.12.0)\n",
      "Requirement already satisfied: wrapt in /usr/local/google/home/alexanderho/.pyenv/versions/3.8.2/envs/tfx-3.8.2/lib/python3.8/site-packages (from tensorflow-datasets) (1.14.1)\n",
      "Requirement already satisfied: typing_extensions in /usr/local/google/home/alexanderho/.pyenv/versions/3.8.2/envs/tfx-3.8.2/lib/python3.8/site-packages (from etils[enp,epath]>=0.9.0->tensorflow-datasets) (4.4.0)\n",
      "Requirement already satisfied: zipp in /usr/local/google/home/alexanderho/.pyenv/versions/3.8.2/envs/tfx-3.8.2/lib/python3.8/site-packages (from etils[enp,epath]>=0.9.0->tensorflow-datasets) (3.12.0)\n",
      "Requirement already satisfied: charset-normalizer<4,>=2 in /usr/local/google/home/alexanderho/.pyenv/versions/3.8.2/envs/tfx-3.8.2/lib/python3.8/site-packages (from requests>=2.19.0->tensorflow-datasets) (3.0.1)\n",
      "Requirement already satisfied: urllib3<1.27,>=1.21.1 in /usr/local/google/home/alexanderho/.pyenv/versions/3.8.2/envs/tfx-3.8.2/lib/python3.8/site-packages (from requests>=2.19.0->tensorflow-datasets) (1.26.14)\n",
      "Requirement already satisfied: idna<4,>=2.5 in /usr/local/google/home/alexanderho/.pyenv/versions/3.8.2/envs/tfx-3.8.2/lib/python3.8/site-packages (from requests>=2.19.0->tensorflow-datasets) (3.4)\n",
      "Requirement already satisfied: certifi>=2017.4.17 in /usr/local/google/home/alexanderho/.pyenv/versions/3.8.2/envs/tfx-3.8.2/lib/python3.8/site-packages (from requests>=2.19.0->tensorflow-datasets) (2022.12.7)\n",
      "Requirement already satisfied: six in /usr/local/google/home/alexanderho/.pyenv/versions/3.8.2/envs/tfx-3.8.2/lib/python3.8/site-packages (from promise->tensorflow-datasets) (1.16.0)\n",
      "Requirement already satisfied: googleapis-common-protos<2,>=1.52.0 in /usr/local/google/home/alexanderho/.pyenv/versions/3.8.2/envs/tfx-3.8.2/lib/python3.8/site-packages (from tensorflow-metadata->tensorflow-datasets) (1.58.0)\n",
      "Note: you may need to restart the kernel to use updated packages.\n"
     ]
    }
   ],
   "source": [
    "%pip install tensorflow-datasets"
   ]
  },
  {
   "cell_type": "code",
   "execution_count": 4,
   "metadata": {},
   "outputs": [
    {
     "name": "stderr",
     "output_type": "stream",
     "text": [
      "2023-02-21 16:27:58.191410: I tensorflow/core/platform/cpu_feature_guard.cc:193] This TensorFlow binary is optimized with oneAPI Deep Neural Network Library (oneDNN) to use the following CPU instructions in performance-critical operations:  AVX2 FMA\n",
      "To enable them in other operations, rebuild TensorFlow with the appropriate compiler flags.\n",
      "2023-02-21 16:27:58.470951: W tensorflow/compiler/xla/stream_executor/platform/default/dso_loader.cc:64] Could not load dynamic library 'libcudart.so.11.0'; dlerror: libcudart.so.11.0: cannot open shared object file: No such file or directory\n",
      "2023-02-21 16:27:58.471011: I tensorflow/compiler/xla/stream_executor/cuda/cudart_stub.cc:29] Ignore above cudart dlerror if you do not have a GPU set up on your machine.\n",
      "2023-02-21 16:27:59.861796: W tensorflow/compiler/xla/stream_executor/platform/default/dso_loader.cc:64] Could not load dynamic library 'libnvinfer.so.7'; dlerror: libnvinfer.so.7: cannot open shared object file: No such file or directory\n",
      "2023-02-21 16:27:59.861955: W tensorflow/compiler/xla/stream_executor/platform/default/dso_loader.cc:64] Could not load dynamic library 'libnvinfer_plugin.so.7'; dlerror: libnvinfer_plugin.so.7: cannot open shared object file: No such file or directory\n",
      "2023-02-21 16:27:59.861970: W tensorflow/compiler/tf2tensorrt/utils/py_utils.cc:38] TF-TRT Warning: Cannot dlopen some TensorRT libraries. If you would like to use Nvidia GPU with TensorRT, please make sure the missing libraries mentioned above are installed properly.\n"
     ]
    },
    {
     "name": "stdout",
     "output_type": "stream",
     "text": [
      "2.11.0\n",
      "1.12.0\n"
     ]
    }
   ],
   "source": [
    "#Check TF & TFX Versioning\n",
    "import tensorflow as tf\n",
    "print(tf.__version__)\n",
    "from tfx import v1 as tfx\n",
    "print(tfx.__version__)\n"
   ]
  },
  {
   "cell_type": "code",
   "execution_count": 10,
   "metadata": {},
   "outputs": [
    {
     "name": "stdout",
     "output_type": "stream",
     "text": [
      "TensorFlow version: 2.11.0\n",
      "TFX version: 1.12.0\n",
      "The tfx.orchestration.experimental.interactive.notebook_extensions.skip extension is already loaded. To reload it, use:\n",
      "  %reload_ext tfx.orchestration.experimental.interactive.notebook_extensions.skip\n"
     ]
    }
   ],
   "source": [
    "import os\n",
    "import absl\n",
    "import json\n",
    "import pprint\n",
    "import tempfile\n",
    "\n",
    "from typing import Any, Dict, List, Text\n",
    "\n",
    "import numpy as np\n",
    "import tensorflow as tf\n",
    "import tensorflow_datasets as tfds\n",
    "import apache_beam as beam\n",
    "\n",
    "from absl import logging\n",
    "\n",
    "from tfx.components.example_gen.base_example_gen_executor import BaseExampleGenExecutor\n",
    "# from base_example_gen_executor_v2.py import BaseExampleGenExecutorV2\n",
    "from tfx.components.example_gen.component import FileBasedExampleGen\n",
    "from tfx.components.example_gen import utils\n",
    "from tfx.dsl.components.base import executor_spec\n",
    "\n",
    "from tfx.types import artifact\n",
    "from tfx.types import artifact_utils\n",
    "from tfx.types import channel\n",
    "from tfx.types import standard_artifacts\n",
    "from tfx.types.standard_artifacts import Examples\n",
    "\n",
    "from tfx.dsl.component.experimental.annotations import InputArtifact\n",
    "from tfx.dsl.component.experimental.annotations import OutputArtifact\n",
    "from tfx.dsl.component.experimental.annotations import Parameter\n",
    "from tfx.dsl.component.experimental.decorators import component\n",
    "from tfx.types.experimental.simple_artifacts import Dataset\n",
    "\n",
    "from tfx import v1 as tfx\n",
    "from tfx.orchestration.experimental.interactive.interactive_context import InteractiveContext\n",
    "\n",
    "# Local files I am exploring\n",
    "# from component_v2 import CopyExampleGen\n",
    "# from base_example_gen_executor_v2 import BaseExampleGenExecutorV2\n",
    "\n",
    "# Set up logging.\n",
    "tf.get_logger().propagate = False\n",
    "absl.logging.set_verbosity(absl.logging.INFO)\n",
    "pp = pprint.PrettyPrinter()\n",
    "\n",
    "print(f\"TensorFlow version: {tf.__version__}\")\n",
    "print(f\"TFX version: {tfx.__version__}\")\n",
    "\n",
    "%load_ext tfx.orchestration.experimental.interactive.notebook_extensions.skip"
   ]
  },
  {
   "cell_type": "code",
   "execution_count": 11,
   "metadata": {},
   "outputs": [],
   "source": [
    "@beam.ptransform_fn\n",
    "@beam.typehints.with_input_types(beam.Pipeline)\n",
    "@beam.typehints.with_output_types(tf.train.Example)\n",
    "def _TFDatasetToExample(  # pylint: disable=invalid-name\n",
    "    pipeline: beam.Pipeline,\n",
    "    exec_properties: Dict[str, Any],\n",
    "    split_pattern: str\n",
    "    ) -> beam.pvalue.PCollection:\n",
    "    \"\"\"Read a TensorFlow Dataset and create tf.Examples\"\"\"\n",
    "    custom_config = json.loads(exec_properties['custom_config'])\n",
    "    dataset_name = custom_config['dataset']\n",
    "    # dataset_name = custom_config['dataset']\n",
    "    split_name = custom_config['split']\n",
    "    # split_name = custom_config['split']\n",
    "\n",
    "    builder = tfds.builder(dataset_name)\n",
    "    builder.download_and_prepare()\n",
    "\n",
    "    return (pipeline\n",
    "            | 'MakeExamples' >> tfds.beam.ReadFromTFDS(builder, split=split_name)\n",
    "            | 'AsNumpy' >> beam.Map(tfds.as_numpy)\n",
    "            | 'ToDict' >> beam.Map(dict)\n",
    "            | 'ToTFExample' >> beam.Map(utils.dict_to_example)\n",
    "            )\n",
    "\n",
    "class TFDSExecutor(BaseExampleGenExecutor):\n",
    "  def GetInputSourceToExamplePTransform(self) -> beam.PTransform:\n",
    "    \"\"\"Returns PTransform for TF Dataset to TF examples.\"\"\"\n",
    "    return _TFDatasetToExample"
   ]
  },
  {
   "cell_type": "code",
   "execution_count": null,
   "metadata": {},
   "outputs": [],
   "source": [
    "context = InteractiveContext()"
   ]
  },
  {
   "cell_type": "code",
   "execution_count": null,
   "metadata": {},
   "outputs": [],
   "source": [
    "# Tfrecord data\n",
    "copy_example_gen = CopyExampleGen(\n",
    "    input_base='./external_tfrecords/tfrecords/Split_train/',\n",
    "    custom_config=\n",
    "    {\n",
    "        'dataset':'movielens/100k-ratings',\n",
    "        'split':'train'\n",
    "    },\n",
    "    custom_executor_spec=executor_spec.ExecutorClassSpec(TFDSExecutor)\n",
    "    )\n",
    "context.run(copy_example_gen)\n"
   ]
  },
  {
   "cell_type": "code",
   "execution_count": null,
   "metadata": {},
   "outputs": [],
   "source": [
    "movies_stats_gen = tfx.components.StatisticsGen(\n",
    "    examples=copy_example_gen.outputs['examples'])\n",
    "context.run(movies_stats_gen, enable_cache=True)"
   ]
  }
 ],
 "metadata": {
  "kernelspec": {
   "display_name": "tfx-3.8.2",
   "language": "python",
   "name": "python3"
  },
  "language_info": {
   "codemirror_mode": {
    "name": "ipython",
    "version": 3
   },
   "file_extension": ".py",
   "mimetype": "text/x-python",
   "name": "python",
   "nbconvert_exporter": "python",
   "pygments_lexer": "ipython3",
   "version": "3.8.2"
  },
  "orig_nbformat": 4,
  "vscode": {
   "interpreter": {
    "hash": "a21382bcf4cd2ec5bec501ec961be81f5e055eb8968eab00b0db6b308c7e2937"
   }
  }
 },
 "nbformat": 4,
 "nbformat_minor": 2
}
